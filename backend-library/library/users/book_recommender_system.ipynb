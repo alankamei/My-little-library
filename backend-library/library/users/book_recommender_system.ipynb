{
 "cells": [
  {
   "cell_type": "code",
   "execution_count": 17,
   "metadata": {},
   "outputs": [],
   "source": [
    "import pandas as pd\n",
    "from sklearn.feature_extraction.text import TfidfVectorizer\n",
    "from sklearn.metrics.pairwise import cosine_similarity"
   ]
  },
  {
   "cell_type": "code",
   "execution_count": 18,
   "metadata": {},
   "outputs": [],
   "source": [
    "df = pd.read_csv('cleaned_books.csv')"
   ]
  },
  {
   "cell_type": "code",
   "execution_count": 19,
   "metadata": {},
   "outputs": [
    {
     "name": "stdout",
     "output_type": "stream",
     "text": [
      "   book_id                                              title  \\\n",
      "0  2767052            The Hunger Games (The Hunger Games, #1)   \n",
      "1        3  Harry Potter and the Sorcerer's Stone (Harry P...   \n",
      "2    41865                            Twilight (Twilight, #1)   \n",
      "3     2657                              To Kill a Mockingbird   \n",
      "\n",
      "                       authors  \\\n",
      "0              Suzanne Collins   \n",
      "1  J.K. Rowling, Mary GrandPré   \n",
      "2              Stephenie Meyer   \n",
      "3                   Harper Lee   \n",
      "\n",
      "                                           image_url  \n",
      "0  https://images.gr-assets.com/books/1447303603m...  \n",
      "1  https://images.gr-assets.com/books/1474154022m...  \n",
      "2  https://images.gr-assets.com/books/1361039443m...  \n",
      "3  https://images.gr-assets.com/books/1361975680m...  \n"
     ]
    }
   ],
   "source": [
    "print(df.head(4))"
   ]
  },
  {
   "cell_type": "code",
   "execution_count": 20,
   "metadata": {},
   "outputs": [],
   "source": [
    "df['combined'] = df['title'].str.lower() + ' ' + df['authors'].str.lower()"
   ]
  },
  {
   "cell_type": "code",
   "execution_count": 21,
   "metadata": {},
   "outputs": [],
   "source": [
    "tfidf = TfidfVectorizer()\n",
    "tfidf_matrix = tfidf.fit_transform(df['combined'])"
   ]
  },
  {
   "cell_type": "code",
   "execution_count": 22,
   "metadata": {},
   "outputs": [],
   "source": [
    "cosine_sim = cosine_similarity(tfidf_matrix, tfidf_matrix)"
   ]
  },
  {
   "cell_type": "code",
   "execution_count": 23,
   "metadata": {},
   "outputs": [],
   "source": [
    "def recommend_book(title, author):\n",
    "    input_combined = f\"{title.lower()} {author.lower()}\"\n",
    "    if input_combined not in df['combined'].values:\n",
    "        return \"Book not found.\"\n",
    "    idx = df[df['combined'] == input_combined].index[0]\n",
    "    sim_scores = list(enumerate(cosine_sim[idx]))\n",
    "    sim_scores = sorted(sim_scores, key=lambda x: x[1], reverse=True)\n",
    "    top_books = [df['title'].iloc[i[0]] for i in sim_scores[1:6]]\n",
    "    return top_books\n"
   ]
  },
  {
   "cell_type": "code",
   "execution_count": 24,
   "metadata": {},
   "outputs": [
    {
     "name": "stdout",
     "output_type": "stream",
     "text": [
      "['Mockingbird', 'A Time to Kill', 'Go Set a Watchman', 'The Last Boleyn', 'First to Kill (Nathan McBride, #1)']\n"
     ]
    }
   ],
   "source": [
    "print(recommend_book(\"To kill a mockingbird\", \"Harper Lee\"))"
   ]
  }
 ],
 "metadata": {
  "kernelspec": {
   "display_name": "venv",
   "language": "python",
   "name": "python3"
  },
  "language_info": {
   "codemirror_mode": {
    "name": "ipython",
    "version": 3
   },
   "file_extension": ".py",
   "mimetype": "text/x-python",
   "name": "python",
   "nbconvert_exporter": "python",
   "pygments_lexer": "ipython3",
   "version": "3.12.3"
  }
 },
 "nbformat": 4,
 "nbformat_minor": 2
}
